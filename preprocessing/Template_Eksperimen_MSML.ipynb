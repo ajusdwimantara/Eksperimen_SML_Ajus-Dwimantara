{
  "cells": [
    {
      "cell_type": "markdown",
      "metadata": {
        "id": "kZLRMFl0JyyQ"
      },
      "source": [
        "# **1. Perkenalan Dataset**\n"
      ]
    },
    {
      "cell_type": "markdown",
      "metadata": {
        "id": "hssSDn-5n3HR"
      },
      "source": [
        "Tahap pertama, Anda harus mencari dan menggunakan dataset dengan ketentuan sebagai berikut:\n",
        "\n",
        "1. **Sumber Dataset**:  \n",
        "   Dataset dapat diperoleh dari berbagai sumber, seperti public repositories (*Kaggle*, *UCI ML Repository*, *Open Data*) atau data primer yang Anda kumpulkan sendiri.\n"
      ]
    },
    {
      "cell_type": "markdown",
      "metadata": {
        "id": "fKADPWcFKlj3"
      },
      "source": [
        "# **2. Import Library**"
      ]
    },
    {
      "cell_type": "markdown",
      "metadata": {
        "id": "LgA3ERnVn84N"
      },
      "source": [
        "Pada tahap ini, Anda perlu mengimpor beberapa pustaka (library) Python yang dibutuhkan untuk analisis data dan pembangunan model machine learning atau deep learning."
      ]
    },
    {
      "cell_type": "code",
      "execution_count": 76,
      "metadata": {
        "id": "BlmvjLY9M4Yj"
      },
      "outputs": [],
      "source": [
        "#Type your code here\n",
        "import pandas as pd\n",
        "import matplotlib.pyplot as plt\n",
        "import seaborn as sns\n",
        "from datetime import datetime\n",
        "from sklearn.preprocessing import StandardScaler\n",
        "from sklearn.preprocessing import OneHotEncoder"
      ]
    },
    {
      "cell_type": "markdown",
      "metadata": {
        "id": "f3YIEnAFKrKL"
      },
      "source": [
        "# **3. Memuat Dataset**"
      ]
    },
    {
      "cell_type": "markdown",
      "metadata": {
        "id": "Ey3ItwTen_7E"
      },
      "source": [
        "Pada tahap ini, Anda perlu memuat dataset ke dalam notebook. Jika dataset dalam format CSV, Anda bisa menggunakan pustaka pandas untuk membacanya. Pastikan untuk mengecek beberapa baris awal dataset untuk memahami strukturnya dan memastikan data telah dimuat dengan benar.\n",
        "\n",
        "Jika dataset berada di Google Drive, pastikan Anda menghubungkan Google Drive ke Colab terlebih dahulu. Setelah dataset berhasil dimuat, langkah berikutnya adalah memeriksa kesesuaian data dan siap untuk dianalisis lebih lanjut.\n",
        "\n",
        "Jika dataset berupa unstructured data, silakan sesuaikan dengan format seperti kelas Machine Learning Pengembangan atau Machine Learning Terapan"
      ]
    },
    {
      "cell_type": "code",
      "execution_count": 77,
      "metadata": {
        "id": "GHCGNTyrM5fS"
      },
      "outputs": [
        {
          "data": {
            "text/html": [
              "<div>\n",
              "<style scoped>\n",
              "    .dataframe tbody tr th:only-of-type {\n",
              "        vertical-align: middle;\n",
              "    }\n",
              "\n",
              "    .dataframe tbody tr th {\n",
              "        vertical-align: top;\n",
              "    }\n",
              "\n",
              "    .dataframe thead th {\n",
              "        text-align: right;\n",
              "    }\n",
              "</style>\n",
              "<table border=\"1\" class=\"dataframe\">\n",
              "  <thead>\n",
              "    <tr style=\"text-align: right;\">\n",
              "      <th></th>\n",
              "      <th>Profession</th>\n",
              "      <th>Income</th>\n",
              "      <th>Credit_card_number</th>\n",
              "      <th>Expiry</th>\n",
              "      <th>Security_code</th>\n",
              "      <th>Fraud</th>\n",
              "    </tr>\n",
              "  </thead>\n",
              "  <tbody>\n",
              "    <tr>\n",
              "      <th>0</th>\n",
              "      <td>DOCTOR</td>\n",
              "      <td>42509</td>\n",
              "      <td>3515418493460774</td>\n",
              "      <td>07/25</td>\n",
              "      <td>251</td>\n",
              "      <td>1</td>\n",
              "    </tr>\n",
              "    <tr>\n",
              "      <th>1</th>\n",
              "      <td>DOCTOR</td>\n",
              "      <td>80334</td>\n",
              "      <td>213134223583196</td>\n",
              "      <td>05/32</td>\n",
              "      <td>858</td>\n",
              "      <td>1</td>\n",
              "    </tr>\n",
              "    <tr>\n",
              "      <th>2</th>\n",
              "      <td>LAWYER</td>\n",
              "      <td>91552</td>\n",
              "      <td>4869615013764888</td>\n",
              "      <td>03/30</td>\n",
              "      <td>755</td>\n",
              "      <td>1</td>\n",
              "    </tr>\n",
              "    <tr>\n",
              "      <th>3</th>\n",
              "      <td>LAWYER</td>\n",
              "      <td>43623</td>\n",
              "      <td>341063356109385</td>\n",
              "      <td>01/29</td>\n",
              "      <td>160</td>\n",
              "      <td>1</td>\n",
              "    </tr>\n",
              "    <tr>\n",
              "      <th>4</th>\n",
              "      <td>DOCTOR</td>\n",
              "      <td>22962</td>\n",
              "      <td>4707418777543978402</td>\n",
              "      <td>11/30</td>\n",
              "      <td>102</td>\n",
              "      <td>0</td>\n",
              "    </tr>\n",
              "  </tbody>\n",
              "</table>\n",
              "</div>"
            ],
            "text/plain": [
              "  Profession  Income   Credit_card_number Expiry  Security_code  Fraud\n",
              "0     DOCTOR   42509     3515418493460774  07/25            251      1\n",
              "1     DOCTOR   80334      213134223583196  05/32            858      1\n",
              "2     LAWYER   91552     4869615013764888  03/30            755      1\n",
              "3     LAWYER   43623      341063356109385  01/29            160      1\n",
              "4     DOCTOR   22962  4707418777543978402  11/30            102      0"
            ]
          },
          "execution_count": 77,
          "metadata": {},
          "output_type": "execute_result"
        }
      ],
      "source": [
        "#Type your code here\n",
        "df = pd.read_csv('../fraud_raw.csv')\n",
        "\n",
        "df.head()"
      ]
    },
    {
      "cell_type": "markdown",
      "metadata": {
        "id": "bgZkbJLpK9UR"
      },
      "source": [
        "# **4. Exploratory Data Analysis (EDA)**\n",
        "\n",
        "Pada tahap ini, Anda akan melakukan **Exploratory Data Analysis (EDA)** untuk memahami karakteristik dataset.\n",
        "\n",
        "Tujuan dari EDA adalah untuk memperoleh wawasan awal yang mendalam mengenai data dan menentukan langkah selanjutnya dalam analisis atau pemodelan."
      ]
    },
    {
      "cell_type": "code",
      "execution_count": 78,
      "metadata": {
        "id": "dKeejtvxM6X1"
      },
      "outputs": [
        {
          "name": "stdout",
          "output_type": "stream",
          "text": [
            "<class 'pandas.core.frame.DataFrame'>\n",
            "RangeIndex: 10000 entries, 0 to 9999\n",
            "Data columns (total 6 columns):\n",
            " #   Column              Non-Null Count  Dtype \n",
            "---  ------              --------------  ----- \n",
            " 0   Profession          10000 non-null  object\n",
            " 1   Income              10000 non-null  int64 \n",
            " 2   Credit_card_number  10000 non-null  int64 \n",
            " 3   Expiry              10000 non-null  object\n",
            " 4   Security_code       10000 non-null  int64 \n",
            " 5   Fraud               10000 non-null  int64 \n",
            "dtypes: int64(4), object(2)\n",
            "memory usage: 468.9+ KB\n"
          ]
        }
      ],
      "source": [
        "#Type your code here\n",
        "df.info()"
      ]
    },
    {
      "cell_type": "code",
      "execution_count": 79,
      "metadata": {},
      "outputs": [
        {
          "data": {
            "text/plain": [
              "Profession            0\n",
              "Income                0\n",
              "Credit_card_number    0\n",
              "Expiry                0\n",
              "Security_code         0\n",
              "Fraud                 0\n",
              "dtype: int64"
            ]
          },
          "execution_count": 79,
          "metadata": {},
          "output_type": "execute_result"
        }
      ],
      "source": [
        "df.isna().sum()"
      ]
    },
    {
      "cell_type": "markdown",
      "metadata": {},
      "source": [
        "### Checking Anomalies"
      ]
    },
    {
      "cell_type": "code",
      "execution_count": 80,
      "metadata": {},
      "outputs": [
        {
          "data": {
            "text/html": [
              "<div>\n",
              "<style scoped>\n",
              "    .dataframe tbody tr th:only-of-type {\n",
              "        vertical-align: middle;\n",
              "    }\n",
              "\n",
              "    .dataframe tbody tr th {\n",
              "        vertical-align: top;\n",
              "    }\n",
              "\n",
              "    .dataframe thead th {\n",
              "        text-align: right;\n",
              "    }\n",
              "</style>\n",
              "<table border=\"1\" class=\"dataframe\">\n",
              "  <thead>\n",
              "    <tr style=\"text-align: right;\">\n",
              "      <th></th>\n",
              "      <th>Income</th>\n",
              "      <th>Credit_card_number</th>\n",
              "      <th>Security_code</th>\n",
              "      <th>Fraud</th>\n",
              "    </tr>\n",
              "  </thead>\n",
              "  <tbody>\n",
              "    <tr>\n",
              "      <th>count</th>\n",
              "      <td>10000.00000</td>\n",
              "      <td>1.000000e+04</td>\n",
              "      <td>10000.000000</td>\n",
              "      <td>10000.000000</td>\n",
              "    </tr>\n",
              "    <tr>\n",
              "      <th>mean</th>\n",
              "      <td>49761.20600</td>\n",
              "      <td>3.851363e+17</td>\n",
              "      <td>863.587800</td>\n",
              "      <td>0.501600</td>\n",
              "    </tr>\n",
              "    <tr>\n",
              "      <th>std</th>\n",
              "      <td>28837.72928</td>\n",
              "      <td>1.257950e+18</td>\n",
              "      <td>1484.424959</td>\n",
              "      <td>0.500022</td>\n",
              "    </tr>\n",
              "    <tr>\n",
              "      <th>min</th>\n",
              "      <td>1.00000</td>\n",
              "      <td>6.040296e+10</td>\n",
              "      <td>0.000000</td>\n",
              "      <td>0.000000</td>\n",
              "    </tr>\n",
              "    <tr>\n",
              "      <th>25%</th>\n",
              "      <td>24863.75000</td>\n",
              "      <td>1.800137e+14</td>\n",
              "      <td>275.000000</td>\n",
              "      <td>0.000000</td>\n",
              "    </tr>\n",
              "    <tr>\n",
              "      <th>50%</th>\n",
              "      <td>49483.00000</td>\n",
              "      <td>3.512440e+15</td>\n",
              "      <td>539.500000</td>\n",
              "      <td>1.000000</td>\n",
              "    </tr>\n",
              "    <tr>\n",
              "      <th>75%</th>\n",
              "      <td>74483.00000</td>\n",
              "      <td>4.594779e+15</td>\n",
              "      <td>813.250000</td>\n",
              "      <td>1.000000</td>\n",
              "    </tr>\n",
              "    <tr>\n",
              "      <th>max</th>\n",
              "      <td>99986.00000</td>\n",
              "      <td>4.999697e+18</td>\n",
              "      <td>9990.000000</td>\n",
              "      <td>1.000000</td>\n",
              "    </tr>\n",
              "  </tbody>\n",
              "</table>\n",
              "</div>"
            ],
            "text/plain": [
              "            Income  Credit_card_number  Security_code         Fraud\n",
              "count  10000.00000        1.000000e+04   10000.000000  10000.000000\n",
              "mean   49761.20600        3.851363e+17     863.587800      0.501600\n",
              "std    28837.72928        1.257950e+18    1484.424959      0.500022\n",
              "min        1.00000        6.040296e+10       0.000000      0.000000\n",
              "25%    24863.75000        1.800137e+14     275.000000      0.000000\n",
              "50%    49483.00000        3.512440e+15     539.500000      1.000000\n",
              "75%    74483.00000        4.594779e+15     813.250000      1.000000\n",
              "max    99986.00000        4.999697e+18    9990.000000      1.000000"
            ]
          },
          "execution_count": 80,
          "metadata": {},
          "output_type": "execute_result"
        }
      ],
      "source": [
        "df.describe()"
      ]
    },
    {
      "cell_type": "markdown",
      "metadata": {},
      "source": [
        "### Checking whether the dataset is balanced"
      ]
    },
    {
      "cell_type": "code",
      "execution_count": 81,
      "metadata": {},
      "outputs": [
        {
          "data": {
            "image/png": "[encoded data removed]",
            "text/plain": [
              "<Figure size 640x480 with 1 Axes>"
            ]
          },
          "metadata": {},
          "output_type": "display_data"
        }
      ],
      "source": [
        "# Count the number of fraud and not fraud\n",
        "fraud_count = len(df[df['Fraud'] == 1])\n",
        "not_fraud_count = len(df[df['Fraud'] == 0])\n",
        "\n",
        "# Plot\n",
        "plt.bar(['Flagged Fraud', 'Not Flagged Fraud'], [fraud_count, not_fraud_count], color=['red', 'green'])\n",
        "plt.title('Flagged vs Not Flagged Fraud Transactions')\n",
        "plt.ylabel('Count')\n",
        "plt.show()"
      ]
    },
    {
      "cell_type": "code",
      "execution_count": 82,
      "metadata": {},
      "outputs": [
        {
          "name": "stdout",
          "output_type": "stream",
          "text": [
            "Fraud: 5016\n",
            "Not Fraud: 4984\n"
          ]
        }
      ],
      "source": [
        "print(f'Fraud: {fraud_count}')\n",
        "print(f'Not Fraud: {not_fraud_count}')"
      ]
    },
    {
      "cell_type": "markdown",
      "metadata": {},
      "source": [
        "### Checking duplicates"
      ]
    },
    {
      "cell_type": "code",
      "execution_count": 83,
      "metadata": {},
      "outputs": [
        {
          "data": {
            "text/plain": [
              "np.int64(0)"
            ]
          },
          "execution_count": 83,
          "metadata": {},
          "output_type": "execute_result"
        }
      ],
      "source": [
        "df.duplicated().sum()"
      ]
    },
    {
      "cell_type": "markdown",
      "metadata": {},
      "source": [
        "### Categorical distribution"
      ]
    },
    {
      "cell_type": "code",
      "execution_count": 84,
      "metadata": {},
      "outputs": [
        {
          "data": {
            "image/png": "[encoded data removed]",
            "text/plain": [
              "<Figure size 1000x600 with 1 Axes>"
            ]
          },
          "metadata": {},
          "output_type": "display_data"
        }
      ],
      "source": [
        "# Plot Profession counts\n",
        "plt.figure(figsize=(10, 6))\n",
        "sns.countplot(x='Profession', data=df, order=df['Profession'].value_counts().index)\n",
        "plt.xticks(rotation=45)\n",
        "plt.title('Count of Professions')\n",
        "plt.ylabel('Count')\n",
        "plt.xlabel('Profession')\n",
        "plt.tight_layout()\n",
        "plt.show()"
      ]
    },
    {
      "cell_type": "code",
      "execution_count": 85,
      "metadata": {},
      "outputs": [
        {
          "data": {
            "image/png": "[encoded data removed]",
            "text/plain": [
              "<Figure size 1200x600 with 1 Axes>"
            ]
          },
          "metadata": {},
          "output_type": "display_data"
        }
      ],
      "source": [
        "plt.figure(figsize=(12, 6))\n",
        "sns.countplot(x='Expiry', data=df, order=df['Expiry'].value_counts().index[:20])  # Show top 20\n",
        "plt.xticks(rotation=45)\n",
        "plt.title('Top 20 Expiry Dates')\n",
        "plt.ylabel('Count')\n",
        "plt.xlabel('Expiry Date')\n",
        "plt.tight_layout()\n",
        "plt.show()"
      ]
    },
    {
      "cell_type": "markdown",
      "metadata": {},
      "source": [
        "### Numerical Distribution"
      ]
    },
    {
      "cell_type": "code",
      "execution_count": 86,
      "metadata": {},
      "outputs": [
        {
          "data": {
            "image/png": "[encoded data removed]",
            "text/plain": [
              "<Figure size 1000x600 with 1 Axes>"
            ]
          },
          "metadata": {},
          "output_type": "display_data"
        }
      ],
      "source": [
        "plt.figure(figsize=(10, 6))\n",
        "sns.histplot(df['Income'], bins=30, kde=True, color='skyblue')\n",
        "plt.title('Distribution of Income')\n",
        "plt.xlabel('Income')\n",
        "plt.ylabel('Count')\n",
        "plt.tight_layout()\n",
        "plt.show()"
      ]
    },
    {
      "cell_type": "markdown",
      "metadata": {},
      "source": [
        "Based on the all given results, we can the dataset is very neat since it is a generated dataset."
      ]
    },
    {
      "cell_type": "markdown",
      "metadata": {
        "id": "cpgHfgnSK3ip"
      },
      "source": [
        "# **5. Data Preprocessing**"
      ]
    },
    {
      "cell_type": "markdown",
      "metadata": {
        "id": "COf8KUPXLg5r"
      },
      "source": [
        "Pada tahap ini, data preprocessing adalah langkah penting untuk memastikan kualitas data sebelum digunakan dalam model machine learning.\n",
        "\n",
        "Jika Anda menggunakan data teks, data mentah sering kali mengandung nilai kosong, duplikasi, atau rentang nilai yang tidak konsisten, yang dapat memengaruhi kinerja model. Oleh karena itu, proses ini bertujuan untuk membersihkan dan mempersiapkan data agar analisis berjalan optimal.\n",
        "\n",
        "Berikut adalah tahapan-tahapan yang bisa dilakukan, tetapi **tidak terbatas** pada:\n",
        "1. Menghapus atau Menangani Data Kosong (Missing Values)\n",
        "2. Menghapus Data Duplikat\n",
        "3. Normalisasi atau Standarisasi Fitur\n",
        "4. Deteksi dan Penanganan Outlier\n",
        "5. Encoding Data Kategorikal\n",
        "6. Binning (Pengelompokan Data)\n",
        "\n",
        "Cukup sesuaikan dengan karakteristik data yang kamu gunakan yah. Khususnya ketika kami menggunakan data tidak terstruktur."
      ]
    },
    {
      "cell_type": "markdown",
      "metadata": {},
      "source": [
        "### Feature Engineering"
      ]
    },
    {
      "cell_type": "code",
      "execution_count": 87,
      "metadata": {},
      "outputs": [],
      "source": [
        "# Ensure ExpiredDate is datetime\n",
        "# Add '20' prefix and set day as 1\n",
        "df['Expiry'] = '01/' + df['Expiry']  # Now format is DD/MM/YY\n",
        "\n",
        "# Parse with specified format\n",
        "df['Expiry'] = pd.to_datetime(df['Expiry'], format='%d/%m/%y', errors='coerce')\n",
        "\n",
        "# Define the reference date (e.g., today)\n",
        "today = pd.Timestamp.today()\n",
        "\n",
        "# Calculate days remaining\n",
        "df['DaysToExpire'] = (df['Expiry'] - today).dt.days"
      ]
    },
    {
      "cell_type": "code",
      "execution_count": 88,
      "metadata": {},
      "outputs": [
        {
          "data": {
            "text/html": [
              "<div>\n",
              "<style scoped>\n",
              "    .dataframe tbody tr th:only-of-type {\n",
              "        vertical-align: middle;\n",
              "    }\n",
              "\n",
              "    .dataframe tbody tr th {\n",
              "        vertical-align: top;\n",
              "    }\n",
              "\n",
              "    .dataframe thead th {\n",
              "        text-align: right;\n",
              "    }\n",
              "</style>\n",
              "<table border=\"1\" class=\"dataframe\">\n",
              "  <thead>\n",
              "    <tr style=\"text-align: right;\">\n",
              "      <th></th>\n",
              "      <th>Profession</th>\n",
              "      <th>Income</th>\n",
              "      <th>Credit_card_number</th>\n",
              "      <th>Expiry</th>\n",
              "      <th>Security_code</th>\n",
              "      <th>Fraud</th>\n",
              "      <th>DaysToExpire</th>\n",
              "    </tr>\n",
              "  </thead>\n",
              "  <tbody>\n",
              "    <tr>\n",
              "      <th>0</th>\n",
              "      <td>DOCTOR</td>\n",
              "      <td>42509</td>\n",
              "      <td>3515418493460774</td>\n",
              "      <td>2025-07-01</td>\n",
              "      <td>251</td>\n",
              "      <td>1</td>\n",
              "      <td>32</td>\n",
              "    </tr>\n",
              "    <tr>\n",
              "      <th>1</th>\n",
              "      <td>DOCTOR</td>\n",
              "      <td>80334</td>\n",
              "      <td>213134223583196</td>\n",
              "      <td>2032-05-01</td>\n",
              "      <td>858</td>\n",
              "      <td>1</td>\n",
              "      <td>2528</td>\n",
              "    </tr>\n",
              "    <tr>\n",
              "      <th>2</th>\n",
              "      <td>LAWYER</td>\n",
              "      <td>91552</td>\n",
              "      <td>4869615013764888</td>\n",
              "      <td>2030-03-01</td>\n",
              "      <td>755</td>\n",
              "      <td>1</td>\n",
              "      <td>1736</td>\n",
              "    </tr>\n",
              "    <tr>\n",
              "      <th>3</th>\n",
              "      <td>LAWYER</td>\n",
              "      <td>43623</td>\n",
              "      <td>341063356109385</td>\n",
              "      <td>2029-01-01</td>\n",
              "      <td>160</td>\n",
              "      <td>1</td>\n",
              "      <td>1312</td>\n",
              "    </tr>\n",
              "    <tr>\n",
              "      <th>4</th>\n",
              "      <td>DOCTOR</td>\n",
              "      <td>22962</td>\n",
              "      <td>4707418777543978402</td>\n",
              "      <td>2030-11-01</td>\n",
              "      <td>102</td>\n",
              "      <td>0</td>\n",
              "      <td>1981</td>\n",
              "    </tr>\n",
              "  </tbody>\n",
              "</table>\n",
              "</div>"
            ],
            "text/plain": [
              "  Profession  Income   Credit_card_number     Expiry  Security_code  Fraud  \\\n",
              "0     DOCTOR   42509     3515418493460774 2025-07-01            251      1   \n",
              "1     DOCTOR   80334      213134223583196 2032-05-01            858      1   \n",
              "2     LAWYER   91552     4869615013764888 2030-03-01            755      1   \n",
              "3     LAWYER   43623      341063356109385 2029-01-01            160      1   \n",
              "4     DOCTOR   22962  4707418777543978402 2030-11-01            102      0   \n",
              "\n",
              "   DaysToExpire  \n",
              "0            32  \n",
              "1          2528  \n",
              "2          1736  \n",
              "3          1312  \n",
              "4          1981  "
            ]
          },
          "execution_count": 88,
          "metadata": {},
          "output_type": "execute_result"
        }
      ],
      "source": [
        "df.head()"
      ]
    },
    {
      "cell_type": "markdown",
      "metadata": {},
      "source": [
        "### One-hot Encoding"
      ]
    },
    {
      "cell_type": "code",
      "execution_count": null,
      "metadata": {},
      "outputs": [],
      "source": [
        "prof_data = df[['Profession']]\n",
        "\n",
        "# Create encoder\n",
        "encoder = OneHotEncoder(drop='first', sparse_output=False)\n",
        "\n",
        "# Fit and transform\n",
        "encoded_array = encoder.fit_transform(prof_data)\n",
        "\n",
        "# Get new column names\n",
        "encoded_cols = encoder.get_feature_names_out(['Profession'])\n",
        "\n",
        "# Create DataFrame\n",
        "encoded_df = pd.DataFrame(encoded_array, columns=encoded_cols)\n",
        "\n",
        "# Concatenate with original df (excluding original 'Profession')\n",
        "df_encoded = pd.concat([df.drop(columns=['Profession']), encoded_df], axis=1)\n"
      ]
    },
    {
      "cell_type": "code",
      "execution_count": 90,
      "metadata": {},
      "outputs": [
        {
          "data": {
            "text/html": [
              "<div>\n",
              "<style scoped>\n",
              "    .dataframe tbody tr th:only-of-type {\n",
              "        vertical-align: middle;\n",
              "    }\n",
              "\n",
              "    .dataframe tbody tr th {\n",
              "        vertical-align: top;\n",
              "    }\n",
              "\n",
              "    .dataframe thead th {\n",
              "        text-align: right;\n",
              "    }\n",
              "</style>\n",
              "<table border=\"1\" class=\"dataframe\">\n",
              "  <thead>\n",
              "    <tr style=\"text-align: right;\">\n",
              "      <th></th>\n",
              "      <th>Income</th>\n",
              "      <th>Credit_card_number</th>\n",
              "      <th>Expiry</th>\n",
              "      <th>Security_code</th>\n",
              "      <th>Fraud</th>\n",
              "      <th>DaysToExpire</th>\n",
              "      <th>Profession_ENGINEER</th>\n",
              "      <th>Profession_LAWYER</th>\n",
              "    </tr>\n",
              "  </thead>\n",
              "  <tbody>\n",
              "    <tr>\n",
              "      <th>0</th>\n",
              "      <td>42509</td>\n",
              "      <td>3515418493460774</td>\n",
              "      <td>2025-07-01</td>\n",
              "      <td>251</td>\n",
              "      <td>1</td>\n",
              "      <td>32</td>\n",
              "      <td>0.0</td>\n",
              "      <td>0.0</td>\n",
              "    </tr>\n",
              "    <tr>\n",
              "      <th>1</th>\n",
              "      <td>80334</td>\n",
              "      <td>213134223583196</td>\n",
              "      <td>2032-05-01</td>\n",
              "      <td>858</td>\n",
              "      <td>1</td>\n",
              "      <td>2528</td>\n",
              "      <td>0.0</td>\n",
              "      <td>0.0</td>\n",
              "    </tr>\n",
              "    <tr>\n",
              "      <th>2</th>\n",
              "      <td>91552</td>\n",
              "      <td>4869615013764888</td>\n",
              "      <td>2030-03-01</td>\n",
              "      <td>755</td>\n",
              "      <td>1</td>\n",
              "      <td>1736</td>\n",
              "      <td>0.0</td>\n",
              "      <td>1.0</td>\n",
              "    </tr>\n",
              "    <tr>\n",
              "      <th>3</th>\n",
              "      <td>43623</td>\n",
              "      <td>341063356109385</td>\n",
              "      <td>2029-01-01</td>\n",
              "      <td>160</td>\n",
              "      <td>1</td>\n",
              "      <td>1312</td>\n",
              "      <td>0.0</td>\n",
              "      <td>1.0</td>\n",
              "    </tr>\n",
              "    <tr>\n",
              "      <th>4</th>\n",
              "      <td>22962</td>\n",
              "      <td>4707418777543978402</td>\n",
              "      <td>2030-11-01</td>\n",
              "      <td>102</td>\n",
              "      <td>0</td>\n",
              "      <td>1981</td>\n",
              "      <td>0.0</td>\n",
              "      <td>0.0</td>\n",
              "    </tr>\n",
              "  </tbody>\n",
              "</table>\n",
              "</div>"
            ],
            "text/plain": [
              "   Income   Credit_card_number     Expiry  Security_code  Fraud  DaysToExpire  \\\n",
              "0   42509     3515418493460774 2025-07-01            251      1            32   \n",
              "1   80334      213134223583196 2032-05-01            858      1          2528   \n",
              "2   91552     4869615013764888 2030-03-01            755      1          1736   \n",
              "3   43623      341063356109385 2029-01-01            160      1          1312   \n",
              "4   22962  4707418777543978402 2030-11-01            102      0          1981   \n",
              "\n",
              "   Profession_ENGINEER  Profession_LAWYER  \n",
              "0                  0.0                0.0  \n",
              "1                  0.0                0.0  \n",
              "2                  0.0                1.0  \n",
              "3                  0.0                1.0  \n",
              "4                  0.0                0.0  "
            ]
          },
          "execution_count": 90,
          "metadata": {},
          "output_type": "execute_result"
        }
      ],
      "source": [
        "df_encoded.head()"
      ]
    },
    {
      "cell_type": "markdown",
      "metadata": {},
      "source": [
        "### Standarization"
      ]
    },
    {
      "cell_type": "code",
      "execution_count": 91,
      "metadata": {
        "id": "Og8pGV0-iDLz"
      },
      "outputs": [],
      "source": [
        "scaler = StandardScaler()\n",
        "\n",
        "# Select columns to standardize\n",
        "data_to_scale = df_encoded[['Income', 'DaysToExpire']]\n",
        "\n",
        "# Fit scaler and transform data\n",
        "scaled_data = scaler.fit_transform(data_to_scale)\n",
        "\n",
        "df_encoded[['Income', 'DaysToExpire']] = scaled_data"
      ]
    },
    {
      "cell_type": "code",
      "execution_count": 92,
      "metadata": {},
      "outputs": [
        {
          "data": {
            "text/html": [
              "<div>\n",
              "<style scoped>\n",
              "    .dataframe tbody tr th:only-of-type {\n",
              "        vertical-align: middle;\n",
              "    }\n",
              "\n",
              "    .dataframe tbody tr th {\n",
              "        vertical-align: top;\n",
              "    }\n",
              "\n",
              "    .dataframe thead th {\n",
              "        text-align: right;\n",
              "    }\n",
              "</style>\n",
              "<table border=\"1\" class=\"dataframe\">\n",
              "  <thead>\n",
              "    <tr style=\"text-align: right;\">\n",
              "      <th></th>\n",
              "      <th>Income</th>\n",
              "      <th>Credit_card_number</th>\n",
              "      <th>Expiry</th>\n",
              "      <th>Security_code</th>\n",
              "      <th>Fraud</th>\n",
              "      <th>DaysToExpire</th>\n",
              "      <th>Profession_ENGINEER</th>\n",
              "      <th>Profession_LAWYER</th>\n",
              "    </tr>\n",
              "  </thead>\n",
              "  <tbody>\n",
              "    <tr>\n",
              "      <th>0</th>\n",
              "      <td>-0.251496</td>\n",
              "      <td>3515418493460774</td>\n",
              "      <td>2025-07-01</td>\n",
              "      <td>251</td>\n",
              "      <td>1</td>\n",
              "      <td>-1.486750</td>\n",
              "      <td>0.0</td>\n",
              "      <td>0.0</td>\n",
              "    </tr>\n",
              "    <tr>\n",
              "      <th>1</th>\n",
              "      <td>1.060219</td>\n",
              "      <td>213134223583196</td>\n",
              "      <td>2032-05-01</td>\n",
              "      <td>858</td>\n",
              "      <td>1</td>\n",
              "      <td>0.885283</td>\n",
              "      <td>0.0</td>\n",
              "      <td>0.0</td>\n",
              "    </tr>\n",
              "    <tr>\n",
              "      <th>2</th>\n",
              "      <td>1.449243</td>\n",
              "      <td>4869615013764888</td>\n",
              "      <td>2030-03-01</td>\n",
              "      <td>755</td>\n",
              "      <td>1</td>\n",
              "      <td>0.132619</td>\n",
              "      <td>0.0</td>\n",
              "      <td>1.0</td>\n",
              "    </tr>\n",
              "    <tr>\n",
              "      <th>3</th>\n",
              "      <td>-0.212864</td>\n",
              "      <td>341063356109385</td>\n",
              "      <td>2029-01-01</td>\n",
              "      <td>160</td>\n",
              "      <td>1</td>\n",
              "      <td>-0.270323</td>\n",
              "      <td>0.0</td>\n",
              "      <td>1.0</td>\n",
              "    </tr>\n",
              "    <tr>\n",
              "      <th>4</th>\n",
              "      <td>-0.929357</td>\n",
              "      <td>4707418777543978402</td>\n",
              "      <td>2030-11-01</td>\n",
              "      <td>102</td>\n",
              "      <td>0</td>\n",
              "      <td>0.365450</td>\n",
              "      <td>0.0</td>\n",
              "      <td>0.0</td>\n",
              "    </tr>\n",
              "  </tbody>\n",
              "</table>\n",
              "</div>"
            ],
            "text/plain": [
              "     Income   Credit_card_number     Expiry  Security_code  Fraud  \\\n",
              "0 -0.251496     3515418493460774 2025-07-01            251      1   \n",
              "1  1.060219      213134223583196 2032-05-01            858      1   \n",
              "2  1.449243     4869615013764888 2030-03-01            755      1   \n",
              "3 -0.212864      341063356109385 2029-01-01            160      1   \n",
              "4 -0.929357  4707418777543978402 2030-11-01            102      0   \n",
              "\n",
              "   DaysToExpire  Profession_ENGINEER  Profession_LAWYER  \n",
              "0     -1.486750                  0.0                0.0  \n",
              "1      0.885283                  0.0                0.0  \n",
              "2      0.132619                  0.0                1.0  \n",
              "3     -0.270323                  0.0                1.0  \n",
              "4      0.365450                  0.0                0.0  "
            ]
          },
          "execution_count": 92,
          "metadata": {},
          "output_type": "execute_result"
        }
      ],
      "source": [
        "df_encoded.head()"
      ]
    },
    {
      "cell_type": "markdown",
      "metadata": {},
      "source": [
        "### Remove Unused Features"
      ]
    },
    {
      "cell_type": "code",
      "execution_count": 93,
      "metadata": {},
      "outputs": [],
      "source": [
        "df_encoded = df_encoded.drop(columns=['Credit_card_number', 'Security_code', 'Expiry'])"
      ]
    },
    {
      "cell_type": "code",
      "execution_count": 94,
      "metadata": {},
      "outputs": [
        {
          "data": {
            "text/html": [
              "<div>\n",
              "<style scoped>\n",
              "    .dataframe tbody tr th:only-of-type {\n",
              "        vertical-align: middle;\n",
              "    }\n",
              "\n",
              "    .dataframe tbody tr th {\n",
              "        vertical-align: top;\n",
              "    }\n",
              "\n",
              "    .dataframe thead th {\n",
              "        text-align: right;\n",
              "    }\n",
              "</style>\n",
              "<table border=\"1\" class=\"dataframe\">\n",
              "  <thead>\n",
              "    <tr style=\"text-align: right;\">\n",
              "      <th></th>\n",
              "      <th>Income</th>\n",
              "      <th>Fraud</th>\n",
              "      <th>DaysToExpire</th>\n",
              "      <th>Profession_ENGINEER</th>\n",
              "      <th>Profession_LAWYER</th>\n",
              "    </tr>\n",
              "  </thead>\n",
              "  <tbody>\n",
              "    <tr>\n",
              "      <th>0</th>\n",
              "      <td>-0.251496</td>\n",
              "      <td>1</td>\n",
              "      <td>-1.486750</td>\n",
              "      <td>0.0</td>\n",
              "      <td>0.0</td>\n",
              "    </tr>\n",
              "    <tr>\n",
              "      <th>1</th>\n",
              "      <td>1.060219</td>\n",
              "      <td>1</td>\n",
              "      <td>0.885283</td>\n",
              "      <td>0.0</td>\n",
              "      <td>0.0</td>\n",
              "    </tr>\n",
              "    <tr>\n",
              "      <th>2</th>\n",
              "      <td>1.449243</td>\n",
              "      <td>1</td>\n",
              "      <td>0.132619</td>\n",
              "      <td>0.0</td>\n",
              "      <td>1.0</td>\n",
              "    </tr>\n",
              "    <tr>\n",
              "      <th>3</th>\n",
              "      <td>-0.212864</td>\n",
              "      <td>1</td>\n",
              "      <td>-0.270323</td>\n",
              "      <td>0.0</td>\n",
              "      <td>1.0</td>\n",
              "    </tr>\n",
              "    <tr>\n",
              "      <th>4</th>\n",
              "      <td>-0.929357</td>\n",
              "      <td>0</td>\n",
              "      <td>0.365450</td>\n",
              "      <td>0.0</td>\n",
              "      <td>0.0</td>\n",
              "    </tr>\n",
              "  </tbody>\n",
              "</table>\n",
              "</div>"
            ],
            "text/plain": [
              "     Income  Fraud  DaysToExpire  Profession_ENGINEER  Profession_LAWYER\n",
              "0 -0.251496      1     -1.486750                  0.0                0.0\n",
              "1  1.060219      1      0.885283                  0.0                0.0\n",
              "2  1.449243      1      0.132619                  0.0                1.0\n",
              "3 -0.212864      1     -0.270323                  0.0                1.0\n",
              "4 -0.929357      0      0.365450                  0.0                0.0"
            ]
          },
          "execution_count": 94,
          "metadata": {},
          "output_type": "execute_result"
        }
      ],
      "source": [
        "df_encoded.head()"
      ]
    }
  ],
  "metadata": {
    "accelerator": "GPU",
    "colab": {
      "gpuType": "T4",
      "provenance": []
    },
    "kernelspec": {
      "display_name": "belajar_mlflow",
      "language": "python",
      "name": "python3"
    },
    "language_info": {
      "codemirror_mode": {
        "name": "ipython",
        "version": 3
      },
      "file_extension": ".py",
      "mimetype": "text/x-python",
      "name": "python",
      "nbconvert_exporter": "python",
      "pygments_lexer": "ipython3",
      "version": "3.12.7"
    }
  },
  "nbformat": 4,
  "nbformat_minor": 0
}
